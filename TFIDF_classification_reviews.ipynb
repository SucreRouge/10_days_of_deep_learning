{
 "cells": [
  {
   "cell_type": "markdown",
   "metadata": {},
   "source": [
    "## TFIDF classification\n",
    "\n",
    "#### Dataset: [Kaggle Bag of Words meets Bag of Popcorns](https://www.kaggle.com/c/word2vec-nlp-tutorial/data)"
   ]
  },
  {
   "cell_type": "code",
   "execution_count": 1,
   "metadata": {
    "collapsed": true
   },
   "outputs": [],
   "source": [
    "import pandas as pd\n",
    "from nltk.corpus import stopwords\n",
    "import re\n",
    "from bs4 import BeautifulSoup\n",
    "import numpy as np\n",
    "from sklearn.feature_extraction.text import TfidfVectorizer\n",
    "from scipy import sparse\n",
    "import matplotlib.pyplot as plt\n",
    "% matplotlib inline"
   ]
  },
  {
   "cell_type": "code",
   "execution_count": 2,
   "metadata": {
    "collapsed": false
   },
   "outputs": [],
   "source": [
    "train = pd.read_csv(\"labeledTrainData.tsv\", header=0, delimiter=\"\\t\", quoting=3, encoding='utf-8')\n",
    "test = pd.read_csv(\"testData.tsv\", header=0, delimiter=\"\\t\", quoting=3, encoding='utf-8')"
   ]
  },
  {
   "cell_type": "markdown",
   "metadata": {},
   "source": [
    "## Text cleaning"
   ]
  },
  {
   "cell_type": "code",
   "execution_count": 3,
   "metadata": {
    "collapsed": false
   },
   "outputs": [],
   "source": [
    "stop = set(stopwords.words(\"english\"))\n",
    "def clean_text(text):\n",
    "    review_text = BeautifulSoup(text, \"html5lib\").get_text()\n",
    "    letter_only = re.sub(\"[^a-zA-Z]\",\" \", review_text)\n",
    "    words = letter_only.split()\n",
    "    clean_text = [w for w in words if not w in stop]\n",
    "    return(\" \".join(clean_text))"
   ]
  },
  {
   "cell_type": "code",
   "execution_count": 4,
   "metadata": {
    "collapsed": false
   },
   "outputs": [
    {
     "data": {
      "text/plain": [
       "u'\"I really wanted to like this film, but the story is ridicules. I don\\'t want to spoil this film, - don\\'t worry right from the begin you know something bad is going to happen - but here\\'s an example of how sloppy this film was put together. The Cowboy and \\\\\"Twig\\\\\" ride up the ridge. The Cowboy has a handle bar mustache. The Cowboy and \\\\\"Twig\\\\\" get into a shoot out and race half way down the ridge. The Cowboy is clean shaven through out the rest of the film. Sometime between the gun fight and the ride down the mountain the cowboy has had time to shave, in dark, on the back of a horse.<br /><br />To be fair, the acting by the four main characters is solid.\"'"
      ]
     },
     "execution_count": 4,
     "metadata": {},
     "output_type": "execute_result"
    }
   ],
   "source": [
    "train['review'][69]"
   ]
  },
  {
   "cell_type": "code",
   "execution_count": 5,
   "metadata": {
    "collapsed": false
   },
   "outputs": [
    {
     "data": {
      "text/plain": [
       "u'I really wanted like film story ridicules I want spoil film worry right begin know something bad going happen example sloppy film put together The Cowboy Twig ride ridge The Cowboy handle bar mustache The Cowboy Twig get shoot race half way ridge The Cowboy clean shaven rest film Sometime gun fight ride mountain cowboy time shave dark back horse To fair acting four main characters solid'"
      ]
     },
     "execution_count": 5,
     "metadata": {},
     "output_type": "execute_result"
    }
   ],
   "source": [
    "clean_text(train['review'][69])"
   ]
  },
  {
   "cell_type": "code",
   "execution_count": 6,
   "metadata": {
    "collapsed": true
   },
   "outputs": [
    {
     "name": "stdout",
     "output_type": "stream",
     "text": [
      "1000\n",
      "2000\n",
      "3000\n",
      "4000\n",
      "5000\n",
      "6000\n",
      "7000\n",
      "8000\n",
      "9000\n",
      "10000\n",
      "11000\n",
      "12000\n",
      "13000\n",
      "14000\n",
      "15000\n",
      "16000\n",
      "17000\n",
      "18000\n",
      "19000\n",
      "20000\n",
      "21000\n",
      "22000\n",
      "23000\n",
      "24000\n",
      "25000\n",
      "1000\n",
      "2000\n",
      "3000\n",
      "4000\n",
      "5000\n",
      "6000\n",
      "7000\n",
      "8000\n",
      "9000\n",
      "10000\n",
      "11000\n",
      "12000\n",
      "13000\n",
      "14000\n",
      "15000\n",
      "16000\n",
      "17000\n",
      "18000\n",
      "19000\n",
      "20000\n",
      "21000\n",
      "22000\n",
      "23000\n",
      "24000\n",
      "25000\n"
     ]
    }
   ],
   "source": [
    "clean_train_reviews = []\n",
    "clean_test_reviews = []\n",
    "\n",
    "for i in xrange(train[\"review\"].size):\n",
    "    if (i+1)%1000 == 0:\n",
    "        print i+1\n",
    "    clean_train_reviews.append(clean_text(train[\"review\"][i]))\n",
    "\n",
    "for i in xrange(test[\"review\"].size):\n",
    "    if (i+1)%1000 == 0:\n",
    "        print i+1\n",
    "    clean_test_reviews.append(clean_text(test[\"review\"][i]))"
   ]
  },
  {
   "cell_type": "markdown",
   "metadata": {},
   "source": [
    "## Initializing TFIDF Vectorizer"
   ]
  },
  {
   "cell_type": "code",
   "execution_count": 7,
   "metadata": {
    "collapsed": true
   },
   "outputs": [],
   "source": [
    "tfidf = TfidfVectorizer(min_df=3, \n",
    "                        max_features=1000, \n",
    "                        strip_accents='unicode', \n",
    "                        analyzer='word', \n",
    "                        ngram_range=(1, 2), \n",
    "                        use_idf=1, \n",
    "                        smooth_idf=1, \n",
    "                        sublinear_tf=1)"
   ]
  },
  {
   "cell_type": "code",
   "execution_count": 8,
   "metadata": {
    "collapsed": true
   },
   "outputs": [],
   "source": [
    "train_data_features = tfidf.fit_transform(clean_train_reviews)\n",
    "test_data_features = tfidf.transform(clean_test_reviews)"
   ]
  },
  {
   "cell_type": "code",
   "execution_count": 9,
   "metadata": {
    "collapsed": false
   },
   "outputs": [
    {
     "name": "stdout",
     "output_type": "stream",
     "text": [
      "(25000, 1000)\n",
      "(25000, 1000)\n"
     ]
    }
   ],
   "source": [
    "print train_data_features.shape\n",
    "print test_data_features.shape"
   ]
  },
  {
   "cell_type": "code",
   "execution_count": 10,
   "metadata": {
    "collapsed": false
   },
   "outputs": [],
   "source": [
    "train_labels = train[\"sentiment\"]"
   ]
  },
  {
   "cell_type": "code",
   "execution_count": 11,
   "metadata": {
    "collapsed": false
   },
   "outputs": [
    {
     "name": "stderr",
     "output_type": "stream",
     "text": [
      "Using TensorFlow backend.\n"
     ]
    }
   ],
   "source": [
    "from keras.models import Sequential\n",
    "from keras.layers import Dense, Dropout, Activation\n",
    "from keras.utils import np_utils"
   ]
  },
  {
   "cell_type": "code",
   "execution_count": 12,
   "metadata": {
    "collapsed": true
   },
   "outputs": [],
   "source": [
    "train_labels = np_utils.to_categorical(train_labels, 2)"
   ]
  },
  {
   "cell_type": "markdown",
   "metadata": {},
   "source": [
    "## Baseline Model (Softmax)"
   ]
  },
  {
   "cell_type": "code",
   "execution_count": 13,
   "metadata": {
    "collapsed": false
   },
   "outputs": [],
   "source": [
    "model = Sequential()\n",
    "model.add(Dense(input_shape=(1000,), units=2))\n",
    "model.add(Activation('softmax'))"
   ]
  },
  {
   "cell_type": "code",
   "execution_count": 14,
   "metadata": {
    "collapsed": false
   },
   "outputs": [
    {
     "name": "stdout",
     "output_type": "stream",
     "text": [
      "Train on 20000 samples, validate on 5000 samples\n",
      "Epoch 1/10\n",
      "0s - loss: 0.6864 - acc: 0.5837 - binary_accuracy: 0.5837 - val_loss: 0.6826 - val_acc: 0.6302 - val_binary_accuracy: 0.6302\n",
      "Epoch 2/10\n",
      "0s - loss: 0.6783 - acc: 0.6667 - binary_accuracy: 0.6667 - val_loss: 0.6749 - val_acc: 0.7022 - val_binary_accuracy: 0.7022\n",
      "Epoch 3/10\n",
      "0s - loss: 0.6706 - acc: 0.7205 - binary_accuracy: 0.7205 - val_loss: 0.6676 - val_acc: 0.7456 - val_binary_accuracy: 0.7456\n",
      "Epoch 4/10\n",
      "0s - loss: 0.6631 - acc: 0.7586 - binary_accuracy: 0.7586 - val_loss: 0.6608 - val_acc: 0.7574 - val_binary_accuracy: 0.7574\n",
      "Epoch 5/10\n",
      "1s - loss: 0.6559 - acc: 0.7776 - binary_accuracy: 0.7776 - val_loss: 0.6539 - val_acc: 0.7824 - val_binary_accuracy: 0.7824\n",
      "Epoch 6/10\n",
      "1s - loss: 0.6490 - acc: 0.7925 - binary_accuracy: 0.7925 - val_loss: 0.6472 - val_acc: 0.7950 - val_binary_accuracy: 0.7950\n",
      "Epoch 7/10\n",
      "1s - loss: 0.6423 - acc: 0.8019 - binary_accuracy: 0.8019 - val_loss: 0.6410 - val_acc: 0.8028 - val_binary_accuracy: 0.8028\n",
      "Epoch 8/10\n",
      "1s - loss: 0.6358 - acc: 0.8092 - binary_accuracy: 0.8092 - val_loss: 0.6348 - val_acc: 0.8084 - val_binary_accuracy: 0.8084\n",
      "Epoch 9/10\n",
      "0s - loss: 0.6295 - acc: 0.8144 - binary_accuracy: 0.8144 - val_loss: 0.6288 - val_acc: 0.8150 - val_binary_accuracy: 0.8150\n",
      "Epoch 10/10\n",
      "0s - loss: 0.6234 - acc: 0.8175 - binary_accuracy: 0.8175 - val_loss: 0.6232 - val_acc: 0.8156 - val_binary_accuracy: 0.8156\n"
     ]
    }
   ],
   "source": [
    "model.compile(loss='binary_crossentropy', \n",
    "              optimizer='sgd', \n",
    "              metrics=['accuracy', 'binary_accuracy'])\n",
    "\n",
    "history = model.fit(train_data_features.toarray(), train_labels, \n",
    "                    validation_split=0.2,\n",
    "                    verbose=2)\n",
    "# Even at 1,000 epochs the max validation accuracy it gives is 0.82"
   ]
  },
  {
   "cell_type": "code",
   "execution_count": 15,
   "metadata": {
    "collapsed": false
   },
   "outputs": [
    {
     "name": "stdout",
     "output_type": "stream",
     "text": [
      "['acc', 'loss', 'val_binary_accuracy', 'binary_accuracy', 'val_acc', 'val_loss']\n"
     ]
    }
   ],
   "source": [
    "print history.history.keys()"
   ]
  },
  {
   "cell_type": "markdown",
   "metadata": {},
   "source": [
    "### Train and validation accuracy"
   ]
  },
  {
   "cell_type": "code",
   "execution_count": 16,
   "metadata": {
    "collapsed": false,
    "scrolled": true
   },
   "outputs": [
    {
     "data": {
      "text/plain": [
       "<matplotlib.legend.Legend at 0x7f889141b790>"
      ]
     },
     "execution_count": 16,
     "metadata": {},
     "output_type": "execute_result"
    },
    {
     "data": {
      "image/png": "[encoded data removed]",
      "text/plain": [
       "<matplotlib.figure.Figure at 0x7f8891df4e90>"
      ]
     },
     "metadata": {},
     "output_type": "display_data"
    }
   ],
   "source": [
    "plt.plot(history.history['acc'])\n",
    "plt.plot(history.history['val_acc'])\n",
    "plt.title('model accuracy')\n",
    "plt.ylabel('accuracy')\n",
    "plt.xlabel('epoch')\n",
    "plt.legend(['train', 'test'], loc='upper left')"
   ]
  },
  {
   "cell_type": "markdown",
   "metadata": {},
   "source": [
    "### Train and Validation loss"
   ]
  },
  {
   "cell_type": "code",
   "execution_count": 17,
   "metadata": {
    "collapsed": false
   },
   "outputs": [
    {
     "data": {
      "text/plain": [
       "<matplotlib.legend.Legend at 0x7f889141bd50>"
      ]
     },
     "execution_count": 17,
     "metadata": {},
     "output_type": "execute_result"
    },
    {
     "data": {
      "image/png": "[encoded data removed]",
      "text/plain": [
       "<matplotlib.figure.Figure at 0x7f889144f050>"
      ]
     },
     "metadata": {},
     "output_type": "display_data"
    }
   ],
   "source": [
    "plt.plot(history.history['loss'])\n",
    "plt.plot(history.history['val_loss'])\n",
    "plt.title('model loss')\n",
    "plt.ylabel('loss')\n",
    "plt.xlabel('epoch')\n",
    "plt.legend(['train', 'test'], loc='upper left')"
   ]
  },
  {
   "cell_type": "markdown",
   "metadata": {},
   "source": [
    "## FC + RELU + RELU + FC + Softmax (MLP)"
   ]
  },
  {
   "cell_type": "code",
   "execution_count": 13,
   "metadata": {
    "collapsed": false
   },
   "outputs": [],
   "source": [
    "model = Sequential()\n",
    "model.add(Dense(input_shape=(1000,), units=512))\n",
    "model.add(Activation('relu'))\n",
    "model.add(Activation('relu'))\n",
    "model.add(Dense(2))\n",
    "model.add(Activation('softmax'))"
   ]
  },
  {
   "cell_type": "code",
   "execution_count": 14,
   "metadata": {
    "collapsed": false
   },
   "outputs": [
    {
     "name": "stdout",
     "output_type": "stream",
     "text": [
      "Train on 20000 samples, validate on 5000 samples\n",
      "Epoch 1/50\n",
      "4s - loss: 0.6899 - acc: 0.5603 - binary_accuracy: 0.5603 - val_loss: 0.6854 - val_acc: 0.6160 - val_binary_accuracy: 0.6160\n",
      "Epoch 2/50\n",
      "5s - loss: 0.6805 - acc: 0.6791 - binary_accuracy: 0.6791 - val_loss: 0.6758 - val_acc: 0.7002 - val_binary_accuracy: 0.7002\n",
      "Epoch 3/50\n",
      "5s - loss: 0.6686 - acc: 0.7419 - binary_accuracy: 0.7419 - val_loss: 0.6622 - val_acc: 0.7628 - val_binary_accuracy: 0.7628\n",
      "Epoch 4/50\n",
      "4s - loss: 0.6525 - acc: 0.7783 - binary_accuracy: 0.7783 - val_loss: 0.6443 - val_acc: 0.7892 - val_binary_accuracy: 0.7892\n",
      "Epoch 5/50\n",
      "4s - loss: 0.6311 - acc: 0.7973 - binary_accuracy: 0.7973 - val_loss: 0.6207 - val_acc: 0.8004 - val_binary_accuracy: 0.8004\n",
      "Epoch 6/50\n",
      "4s - loss: 0.6039 - acc: 0.8067 - binary_accuracy: 0.8067 - val_loss: 0.5920 - val_acc: 0.8120 - val_binary_accuracy: 0.8120\n",
      "Epoch 7/50\n",
      "5s - loss: 0.5722 - acc: 0.8158 - binary_accuracy: 0.8158 - val_loss: 0.5616 - val_acc: 0.8102 - val_binary_accuracy: 0.8102\n",
      "Epoch 8/50\n",
      "6s - loss: 0.5380 - acc: 0.8229 - binary_accuracy: 0.8229 - val_loss: 0.5267 - val_acc: 0.8224 - val_binary_accuracy: 0.8224\n",
      "Epoch 9/50\n",
      "5s - loss: 0.5043 - acc: 0.8278 - binary_accuracy: 0.8278 - val_loss: 0.4956 - val_acc: 0.8270 - val_binary_accuracy: 0.8270\n",
      "Epoch 10/50\n",
      "5s - loss: 0.4734 - acc: 0.8337 - binary_accuracy: 0.8337 - val_loss: 0.4676 - val_acc: 0.8304 - val_binary_accuracy: 0.8304\n",
      "Epoch 11/50\n",
      "4s - loss: 0.4464 - acc: 0.8382 - binary_accuracy: 0.8382 - val_loss: 0.4440 - val_acc: 0.8344 - val_binary_accuracy: 0.8344\n",
      "Epoch 12/50\n",
      "4s - loss: 0.4239 - acc: 0.8414 - binary_accuracy: 0.8414 - val_loss: 0.4243 - val_acc: 0.8380 - val_binary_accuracy: 0.8380\n",
      "Epoch 13/50\n",
      "6s - loss: 0.4049 - acc: 0.8459 - binary_accuracy: 0.8459 - val_loss: 0.4084 - val_acc: 0.8416 - val_binary_accuracy: 0.8416\n",
      "Epoch 14/50\n",
      "5s - loss: 0.3893 - acc: 0.8484 - binary_accuracy: 0.8484 - val_loss: 0.3949 - val_acc: 0.8458 - val_binary_accuracy: 0.8458\n",
      "Epoch 15/50\n",
      "5s - loss: 0.3764 - acc: 0.8531 - binary_accuracy: 0.8531 - val_loss: 0.3868 - val_acc: 0.8416 - val_binary_accuracy: 0.8416\n",
      "Epoch 16/50\n",
      "5s - loss: 0.3657 - acc: 0.8542 - binary_accuracy: 0.8542 - val_loss: 0.3776 - val_acc: 0.8438 - val_binary_accuracy: 0.8438\n",
      "Epoch 17/50\n",
      "4s - loss: 0.3567 - acc: 0.8573 - binary_accuracy: 0.8573 - val_loss: 0.3702 - val_acc: 0.8456 - val_binary_accuracy: 0.8456\n",
      "Epoch 18/50\n",
      "4s - loss: 0.3491 - acc: 0.8592 - binary_accuracy: 0.8592 - val_loss: 0.3618 - val_acc: 0.8514 - val_binary_accuracy: 0.8514\n",
      "Epoch 19/50\n",
      "6s - loss: 0.3424 - acc: 0.8606 - binary_accuracy: 0.8606 - val_loss: 0.3568 - val_acc: 0.8518 - val_binary_accuracy: 0.8518\n",
      "Epoch 20/50\n",
      "5s - loss: 0.3370 - acc: 0.8622 - binary_accuracy: 0.8622 - val_loss: 0.3546 - val_acc: 0.8510 - val_binary_accuracy: 0.8510\n",
      "Epoch 21/50\n",
      "5s - loss: 0.3324 - acc: 0.8625 - binary_accuracy: 0.8625 - val_loss: 0.3481 - val_acc: 0.8534 - val_binary_accuracy: 0.8534\n",
      "Epoch 22/50\n",
      "5s - loss: 0.3280 - acc: 0.8642 - binary_accuracy: 0.8642 - val_loss: 0.3448 - val_acc: 0.8538 - val_binary_accuracy: 0.8538\n",
      "Epoch 23/50\n",
      "5s - loss: 0.3241 - acc: 0.8656 - binary_accuracy: 0.8656 - val_loss: 0.3420 - val_acc: 0.8546 - val_binary_accuracy: 0.8546\n",
      "Epoch 24/50\n",
      "5s - loss: 0.3207 - acc: 0.8649 - binary_accuracy: 0.8649 - val_loss: 0.3403 - val_acc: 0.8554 - val_binary_accuracy: 0.8554\n",
      "Epoch 25/50\n",
      "5s - loss: 0.3180 - acc: 0.8669 - binary_accuracy: 0.8669 - val_loss: 0.3374 - val_acc: 0.8558 - val_binary_accuracy: 0.8558\n",
      "Epoch 26/50\n",
      "5s - loss: 0.3153 - acc: 0.8685 - binary_accuracy: 0.8685 - val_loss: 0.3372 - val_acc: 0.8564 - val_binary_accuracy: 0.8564\n",
      "Epoch 27/50\n",
      "5s - loss: 0.3130 - acc: 0.8695 - binary_accuracy: 0.8695 - val_loss: 0.3339 - val_acc: 0.8572 - val_binary_accuracy: 0.8572\n",
      "Epoch 28/50\n",
      "5s - loss: 0.3111 - acc: 0.8701 - binary_accuracy: 0.8701 - val_loss: 0.3326 - val_acc: 0.8584 - val_binary_accuracy: 0.8584\n",
      "Epoch 29/50\n",
      "5s - loss: 0.3088 - acc: 0.8701 - binary_accuracy: 0.8701 - val_loss: 0.3323 - val_acc: 0.8576 - val_binary_accuracy: 0.8576\n",
      "Epoch 30/50\n",
      "5s - loss: 0.3072 - acc: 0.8713 - binary_accuracy: 0.8713 - val_loss: 0.3312 - val_acc: 0.8582 - val_binary_accuracy: 0.8582\n",
      "Epoch 31/50\n",
      "5s - loss: 0.3058 - acc: 0.8711 - binary_accuracy: 0.8711 - val_loss: 0.3296 - val_acc: 0.8594 - val_binary_accuracy: 0.8594\n",
      "Epoch 32/50\n",
      "5s - loss: 0.3042 - acc: 0.8717 - binary_accuracy: 0.8717 - val_loss: 0.3286 - val_acc: 0.8606 - val_binary_accuracy: 0.8606\n",
      "Epoch 33/50\n",
      "4s - loss: 0.3030 - acc: 0.8726 - binary_accuracy: 0.8726 - val_loss: 0.3281 - val_acc: 0.8588 - val_binary_accuracy: 0.8588\n",
      "Epoch 34/50\n",
      "5s - loss: 0.3017 - acc: 0.8728 - binary_accuracy: 0.8728 - val_loss: 0.3276 - val_acc: 0.8600 - val_binary_accuracy: 0.8600\n",
      "Epoch 35/50\n",
      "5s - loss: 0.3004 - acc: 0.8740 - binary_accuracy: 0.8740 - val_loss: 0.3268 - val_acc: 0.8594 - val_binary_accuracy: 0.8594\n",
      "Epoch 36/50\n",
      "5s - loss: 0.2996 - acc: 0.8731 - binary_accuracy: 0.8731 - val_loss: 0.3289 - val_acc: 0.8602 - val_binary_accuracy: 0.8602\n",
      "Epoch 37/50\n",
      "5s - loss: 0.2988 - acc: 0.8747 - binary_accuracy: 0.8747 - val_loss: 0.3278 - val_acc: 0.8616 - val_binary_accuracy: 0.8616\n",
      "Epoch 38/50\n",
      "5s - loss: 0.2978 - acc: 0.8745 - binary_accuracy: 0.8745 - val_loss: 0.3263 - val_acc: 0.8618 - val_binary_accuracy: 0.8618\n",
      "Epoch 39/50\n",
      "5s - loss: 0.2969 - acc: 0.8740 - binary_accuracy: 0.8740 - val_loss: 0.3283 - val_acc: 0.8608 - val_binary_accuracy: 0.8608\n",
      "Epoch 40/50\n",
      "5s - loss: 0.2960 - acc: 0.8749 - binary_accuracy: 0.8749 - val_loss: 0.3253 - val_acc: 0.8598 - val_binary_accuracy: 0.8598\n",
      "Epoch 41/50\n",
      "5s - loss: 0.2955 - acc: 0.8746 - binary_accuracy: 0.8746 - val_loss: 0.3252 - val_acc: 0.8602 - val_binary_accuracy: 0.8602\n",
      "Epoch 42/50\n",
      "5s - loss: 0.2950 - acc: 0.8746 - binary_accuracy: 0.8746 - val_loss: 0.3269 - val_acc: 0.8624 - val_binary_accuracy: 0.8624\n",
      "Epoch 43/50\n",
      "4s - loss: 0.2943 - acc: 0.8760 - binary_accuracy: 0.8760 - val_loss: 0.3250 - val_acc: 0.8600 - val_binary_accuracy: 0.8600\n",
      "Epoch 44/50\n",
      "5s - loss: 0.2936 - acc: 0.8759 - binary_accuracy: 0.8759 - val_loss: 0.3252 - val_acc: 0.8604 - val_binary_accuracy: 0.8604\n",
      "Epoch 45/50\n",
      "5s - loss: 0.2930 - acc: 0.8773 - binary_accuracy: 0.8773 - val_loss: 0.3263 - val_acc: 0.8620 - val_binary_accuracy: 0.8620\n",
      "Epoch 46/50\n",
      "5s - loss: 0.2927 - acc: 0.8761 - binary_accuracy: 0.8761 - val_loss: 0.3254 - val_acc: 0.8608 - val_binary_accuracy: 0.8608\n",
      "Epoch 47/50\n",
      "5s - loss: 0.2920 - acc: 0.8764 - binary_accuracy: 0.8764 - val_loss: 0.3294 - val_acc: 0.8580 - val_binary_accuracy: 0.8580\n",
      "Epoch 48/50\n",
      "5s - loss: 0.2916 - acc: 0.8772 - binary_accuracy: 0.8772 - val_loss: 0.3269 - val_acc: 0.8600 - val_binary_accuracy: 0.8600\n",
      "Epoch 49/50\n",
      "5s - loss: 0.2913 - acc: 0.8769 - binary_accuracy: 0.8769 - val_loss: 0.3250 - val_acc: 0.8598 - val_binary_accuracy: 0.8598\n",
      "Epoch 50/50\n",
      "5s - loss: 0.2908 - acc: 0.8772 - binary_accuracy: 0.8772 - val_loss: 0.3314 - val_acc: 0.8586 - val_binary_accuracy: 0.8586\n"
     ]
    }
   ],
   "source": [
    "model.compile(loss='binary_crossentropy', \n",
    "              optimizer='sgd', \n",
    "              metrics=['accuracy', 'binary_accuracy'])\n",
    "\n",
    "history = model.fit(train_data_features.toarray(), train_labels, \n",
    "                    validation_split=0.2,\n",
    "                    verbose=2, epochs= 50)\n",
    "# Max accuracy at 25 epochs is 85.76"
   ]
  },
  {
   "cell_type": "markdown",
   "metadata": {},
   "source": [
    "### Train and validation accuracy"
   ]
  },
  {
   "cell_type": "code",
   "execution_count": 15,
   "metadata": {
    "collapsed": false
   },
   "outputs": [
    {
     "data": {
      "text/plain": [
       "<matplotlib.legend.Legend at 0x7f5cfaa00f90>"
      ]
     },
     "execution_count": 15,
     "metadata": {},
     "output_type": "execute_result"
    },
    {
     "data": {
      "image/png": "[encoded data removed]",
      "text/plain": [
       "<matplotlib.figure.Figure at 0x7f5cfab03610>"
      ]
     },
     "metadata": {},
     "output_type": "display_data"
    }
   ],
   "source": [
    "plt.plot(history.history['acc'])\n",
    "plt.plot(history.history['val_acc'])\n",
    "plt.title('model accuracy')\n",
    "plt.ylabel('accuracy')\n",
    "plt.xlabel('epoch')\n",
    "plt.legend(['train', 'test'], loc='upper left')"
   ]
  },
  {
   "cell_type": "markdown",
   "metadata": {},
   "source": [
    "### Train and validation loss"
   ]
  },
  {
   "cell_type": "code",
   "execution_count": 16,
   "metadata": {
    "collapsed": false
   },
   "outputs": [
    {
     "data": {
      "text/plain": [
       "<matplotlib.legend.Legend at 0x7f5cfaa19590>"
      ]
     },
     "execution_count": 16,
     "metadata": {},
     "output_type": "execute_result"
    },
    {
     "data": {
      "image/png": "[encoded data removed]",
      "text/plain": [
       "<matplotlib.figure.Figure at 0x7f5cfaa49190>"
      ]
     },
     "metadata": {},
     "output_type": "display_data"
    }
   ],
   "source": [
    "plt.plot(history.history['loss'])\n",
    "plt.plot(history.history['val_loss'])\n",
    "plt.title('model loss')\n",
    "plt.ylabel('loss')\n",
    "plt.xlabel('epoch')\n",
    "plt.legend(['train', 'test'], loc='upper left')"
   ]
  },
  {
   "cell_type": "code",
   "execution_count": null,
   "metadata": {
    "collapsed": true
   },
   "outputs": [],
   "source": []
  }
 ],
 "metadata": {
  "anaconda-cloud": {},
  "kernelspec": {
   "display_name": "Python [conda env:tensorflow]",
   "language": "python",
   "name": "conda-env-tensorflow-py"
  },
  "language_info": {
   "codemirror_mode": {
    "name": "ipython",
    "version": 2
   },
   "file_extension": ".py",
   "mimetype": "text/x-python",
   "name": "python",
   "nbconvert_exporter": "python",
   "pygments_lexer": "ipython2",
   "version": "2.7.13"
  }
 },
 "nbformat": 4,
 "nbformat_minor": 1
}
