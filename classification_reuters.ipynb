{
 "cells": [
  {
   "cell_type": "markdown",
   "metadata": {},
   "source": [
    "## Text Classification using Keras\n",
    "\n",
    "### Dataset: Reuters"
   ]
  },
  {
   "cell_type": "code",
   "execution_count": 30,
   "metadata": {
    "collapsed": false
   },
   "outputs": [],
   "source": [
    "from keras.datasets import reuters\n",
    "import keras\n",
    "from keras.models import Sequential\n",
    "from keras.layers import Dense, Activation, Dropout\n",
    "from keras.utils import np_utils\n",
    "from keras.preprocessing.text import Tokenizer\n",
    "import numpy as np\n",
    "from __future__ import print_function\n",
    "import matplotlib.pyplot as plt\n",
    "% matplotlib inline"
   ]
  },
  {
   "cell_type": "markdown",
   "metadata": {},
   "source": [
    "1. *max_words* defines the maximum number of words to be taken into consideration in each article\n",
    "2. *batch_size* defines the number of articles to be trained on in one go\n",
    "3. *nb_epoch* defines the total number of times one wants to fit the model"
   ]
  },
  {
   "cell_type": "code",
   "execution_count": 31,
   "metadata": {
    "collapsed": true
   },
   "outputs": [],
   "source": [
    "max_words = 1000\n",
    "batch_size = 32\n",
    "nb_epoch = 100"
   ]
  },
  {
   "cell_type": "code",
   "execution_count": 32,
   "metadata": {
    "collapsed": false
   },
   "outputs": [],
   "source": [
    "(X_train, y_train), (X_test, y_test) = reuters.load_data(num_words=max_words, test_split=0.2)"
   ]
  },
  {
   "cell_type": "code",
   "execution_count": 33,
   "metadata": {
    "collapsed": false
   },
   "outputs": [],
   "source": [
    "num_classes = np.max(y_train)+1"
   ]
  },
  {
   "cell_type": "code",
   "execution_count": 34,
   "metadata": {
    "collapsed": false
   },
   "outputs": [
    {
     "name": "stdout",
     "output_type": "stream",
     "text": [
      "[ [1, 2, 2, 8, 43, 10, 447, 5, 25, 207, 270, 5, 2, 111, 16, 369, 186, 90, 67, 7, 89, 5, 19, 102, 6, 19, 124, 15, 90, 67, 84, 22, 482, 26, 7, 48, 4, 49, 8, 864, 39, 209, 154, 6, 151, 6, 83, 11, 15, 22, 155, 11, 15, 7, 48, 9, 2, 2, 504, 6, 258, 6, 272, 11, 15, 22, 134, 44, 11, 15, 16, 8, 197, 2, 90, 67, 52, 29, 209, 30, 32, 132, 6, 109, 15, 17, 12]\n",
      " [1, 2, 699, 2, 2, 56, 2, 2, 9, 56, 2, 2, 81, 5, 2, 57, 366, 737, 132, 20, 2, 7, 2, 49, 2, 2, 2, 2, 699, 2, 8, 7, 10, 241, 16, 855, 129, 231, 783, 5, 4, 587, 2, 2, 2, 775, 7, 48, 34, 191, 44, 35, 2, 505, 17, 12]\n",
      " [1, 53, 12, 284, 15, 14, 272, 26, 53, 959, 32, 818, 15, 14, 272, 26, 39, 684, 70, 11, 14, 12, 2, 18, 180, 183, 187, 70, 11, 14, 102, 32, 11, 29, 53, 44, 704, 15, 14, 19, 758, 15, 53, 959, 47, 2, 15, 14, 19, 132, 15, 39, 965, 32, 11, 14, 147, 72, 11, 180, 183, 187, 44, 11, 14, 102, 19, 11, 123, 186, 90, 67, 960, 4, 78, 13, 68, 467, 511, 110, 59, 89, 90, 67, 2, 55, 2, 92, 617, 80, 2, 46, 905, 220, 13, 4, 346, 48, 235, 629, 5, 211, 5, 2, 7, 2, 81, 5, 187, 11, 15, 9, 2, 201, 5, 47, 2, 18, 478, 2, 5, 2, 7, 232, 2, 71, 5, 160, 63, 11, 9, 2, 81, 5, 102, 59, 11, 17, 12]\n",
      " ...,\n",
      " [1, 141, 2, 387, 81, 8, 16, 2, 10, 340, 2, 850, 31, 56, 2, 691, 9, 2, 71, 9, 2, 2, 2, 699, 2, 2, 2, 699, 244, 2, 4, 49, 8, 4, 656, 850, 33, 2, 9, 2, 340, 2, 2, 9, 2, 22, 2, 2, 687, 83, 35, 15, 257, 6, 57, 2, 7, 4, 2, 654, 5, 2, 2, 2, 4, 49, 8, 16, 369, 646, 6, 2, 7, 124, 407, 17, 12]\n",
      " [1, 53, 46, 957, 26, 14, 74, 132, 26, 39, 46, 258, 2, 18, 14, 74, 134, 2, 18, 88, 2, 72, 11, 14, 2, 32, 11, 123, 383, 89, 39, 46, 235, 10, 864, 728, 5, 258, 44, 11, 15, 22, 753, 9, 42, 92, 131, 728, 5, 69, 312, 11, 15, 22, 222, 2, 2, 383, 48, 39, 74, 235, 10, 864, 276, 5, 61, 32, 11, 15, 21, 4, 211, 5, 126, 2, 42, 92, 131, 46, 19, 352, 11, 15, 22, 710, 220, 9, 42, 92, 131, 276, 5, 59, 61, 11, 15, 22, 10, 455, 7, 2, 137, 336, 2, 6, 2, 142, 971, 2, 43, 359, 5, 4, 326, 753, 364, 17, 12]\n",
      " [1, 227, 2, 91, 2, 125, 2, 21, 4, 2, 76, 7, 4, 757, 481, 2, 790, 2, 2, 9, 111, 149, 8, 7, 10, 76, 223, 51, 4, 417, 8, 2, 91, 2, 2, 340, 7, 194, 2, 6, 2, 21, 127, 2, 2, 2, 6, 2, 4, 329, 433, 7, 65, 87, 2, 10, 2, 2, 290, 9, 21, 567, 16, 2, 24, 4, 76, 209, 30, 2, 2, 2, 8, 4, 60, 8, 4, 966, 308, 40, 2, 129, 2, 295, 277, 2, 9, 24, 286, 2, 234, 222, 9, 4, 906, 2, 2, 114, 2, 2, 7, 4, 113, 17, 12]]\n",
      "[ 3  4  3 ..., 25  3 25]\n"
     ]
    }
   ],
   "source": [
    "print(X_train)\n",
    "print(y_train)"
   ]
  },
  {
   "cell_type": "code",
   "execution_count": 35,
   "metadata": {
    "collapsed": false
   },
   "outputs": [],
   "source": [
    "tokenizer = Tokenizer(num_words=max_words)\n",
    "X_train = tokenizer.sequences_to_matrix(X_train, mode='binary')\n",
    "X_test = tokenizer.sequences_to_matrix(X_test, mode='binary')"
   ]
  },
  {
   "cell_type": "code",
   "execution_count": 36,
   "metadata": {
    "collapsed": false
   },
   "outputs": [
    {
     "data": {
      "text/plain": [
       "(8982, 1000)"
      ]
     },
     "execution_count": 36,
     "metadata": {},
     "output_type": "execute_result"
    }
   ],
   "source": [
    "X_train.shape"
   ]
  },
  {
   "cell_type": "code",
   "execution_count": 37,
   "metadata": {
    "collapsed": true
   },
   "outputs": [],
   "source": [
    "Y_train = np_utils.to_categorical(y_train, num_classes)\n",
    "Y_test = np_utils.to_categorical(y_test, num_classes)"
   ]
  },
  {
   "cell_type": "code",
   "execution_count": 38,
   "metadata": {
    "collapsed": false
   },
   "outputs": [
    {
     "data": {
      "text/plain": [
       "(8982, 46)"
      ]
     },
     "execution_count": 38,
     "metadata": {},
     "output_type": "execute_result"
    }
   ],
   "source": [
    "Y_train.shape"
   ]
  },
  {
   "cell_type": "markdown",
   "metadata": {},
   "source": [
    "## Baseline Model (Softmax)"
   ]
  },
  {
   "cell_type": "code",
   "execution_count": 39,
   "metadata": {
    "collapsed": true
   },
   "outputs": [],
   "source": [
    "model = Sequential()\n",
    "model.add(Dense(input_shape=(max_words,), units=num_classes))\n",
    "model.add(Activation('softmax'))\n",
    "# Max_accuracy = 79.61, Val_accuracy =  75.53\n",
    "# Test_score = 1.13, Test_accuracy = 74.6"
   ]
  },
  {
   "cell_type": "code",
   "execution_count": 40,
   "metadata": {
    "collapsed": false
   },
   "outputs": [
    {
     "name": "stdout",
     "output_type": "stream",
     "text": [
      "Train on 8083 samples, validate on 899 samples\n",
      "Epoch 1/100\n",
      "0s - loss: 2.5297 - acc: 0.4561 - val_loss: 2.0855 - val_acc: 0.5083\n",
      "Epoch 2/100\n",
      "0s - loss: 1.8893 - acc: 0.5437 - val_loss: 1.8488 - val_acc: 0.5562\n",
      "Epoch 3/100\n",
      "0s - loss: 1.7179 - acc: 0.5886 - val_loss: 1.7348 - val_acc: 0.5851\n",
      "Epoch 4/100\n",
      "0s - loss: 1.6130 - acc: 0.6239 - val_loss: 1.6561 - val_acc: 0.6240\n",
      "Epoch 5/100\n",
      "0s - loss: 1.5353 - acc: 0.6477 - val_loss: 1.5970 - val_acc: 0.6429\n",
      "Epoch 6/100\n",
      "0s - loss: 1.4730 - acc: 0.6634 - val_loss: 1.5488 - val_acc: 0.6618\n",
      "Epoch 7/100\n",
      "0s - loss: 1.4212 - acc: 0.6806 - val_loss: 1.5088 - val_acc: 0.6719\n",
      "Epoch 8/100\n",
      "0s - loss: 1.3766 - acc: 0.6903 - val_loss: 1.4759 - val_acc: 0.6841\n",
      "Epoch 9/100\n",
      "0s - loss: 1.3381 - acc: 0.6996 - val_loss: 1.4464 - val_acc: 0.6885\n",
      "Epoch 10/100\n",
      "0s - loss: 1.3038 - acc: 0.7086 - val_loss: 1.4205 - val_acc: 0.6930\n",
      "Epoch 11/100\n",
      "0s - loss: 1.2732 - acc: 0.7155 - val_loss: 1.3980 - val_acc: 0.7019\n",
      "Epoch 12/100\n",
      "0s - loss: 1.2451 - acc: 0.7236 - val_loss: 1.3772 - val_acc: 0.7075\n",
      "Epoch 13/100\n",
      "0s - loss: 1.2198 - acc: 0.7281 - val_loss: 1.3589 - val_acc: 0.7130\n",
      "Epoch 14/100\n",
      "0s - loss: 1.1963 - acc: 0.7348 - val_loss: 1.3430 - val_acc: 0.7130\n",
      "Epoch 15/100\n",
      "0s - loss: 1.1747 - acc: 0.7404 - val_loss: 1.3275 - val_acc: 0.7152\n",
      "Epoch 16/100\n",
      "0s - loss: 1.1546 - acc: 0.7469 - val_loss: 1.3123 - val_acc: 0.7152\n",
      "Epoch 17/100\n",
      "0s - loss: 1.1356 - acc: 0.7507 - val_loss: 1.2986 - val_acc: 0.7175\n",
      "Epoch 18/100\n",
      "0s - loss: 1.1177 - acc: 0.7557 - val_loss: 1.2866 - val_acc: 0.7186\n",
      "Epoch 19/100\n",
      "0s - loss: 1.1011 - acc: 0.7610 - val_loss: 1.2754 - val_acc: 0.7230\n",
      "Epoch 20/100\n",
      "0s - loss: 1.0851 - acc: 0.7642 - val_loss: 1.2644 - val_acc: 0.7219\n",
      "Epoch 21/100\n",
      "0s - loss: 1.0701 - acc: 0.7682 - val_loss: 1.2540 - val_acc: 0.7275\n",
      "Epoch 22/100\n",
      "0s - loss: 1.0558 - acc: 0.7709 - val_loss: 1.2441 - val_acc: 0.7353\n",
      "Epoch 23/100\n",
      "0s - loss: 1.0421 - acc: 0.7746 - val_loss: 1.2354 - val_acc: 0.7353\n",
      "Epoch 24/100\n",
      "0s - loss: 1.0291 - acc: 0.7769 - val_loss: 1.2264 - val_acc: 0.7397\n",
      "Epoch 25/100\n",
      "0s - loss: 1.0165 - acc: 0.7793 - val_loss: 1.2178 - val_acc: 0.7419\n",
      "Epoch 26/100\n",
      "0s - loss: 1.0047 - acc: 0.7813 - val_loss: 1.2098 - val_acc: 0.7430\n",
      "Epoch 27/100\n",
      "0s - loss: 0.9931 - acc: 0.7839 - val_loss: 1.2025 - val_acc: 0.7442\n",
      "Epoch 28/100\n",
      "0s - loss: 0.9820 - acc: 0.7862 - val_loss: 1.1956 - val_acc: 0.7442\n",
      "Epoch 29/100\n",
      "0s - loss: 0.9712 - acc: 0.7877 - val_loss: 1.1886 - val_acc: 0.7464\n",
      "Epoch 30/100\n",
      "0s - loss: 0.9611 - acc: 0.7888 - val_loss: 1.1819 - val_acc: 0.7497\n",
      "Epoch 31/100\n",
      "0s - loss: 0.9510 - acc: 0.7917 - val_loss: 1.1751 - val_acc: 0.7497\n",
      "Epoch 32/100\n",
      "0s - loss: 0.9414 - acc: 0.7922 - val_loss: 1.1697 - val_acc: 0.7497\n",
      "Epoch 33/100\n",
      "0s - loss: 0.9321 - acc: 0.7940 - val_loss: 1.1634 - val_acc: 0.7497\n",
      "Epoch 34/100\n",
      "0s - loss: 0.9231 - acc: 0.7952 - val_loss: 1.1574 - val_acc: 0.7475\n",
      "Epoch 35/100\n",
      "0s - loss: 0.9142 - acc: 0.7978 - val_loss: 1.1521 - val_acc: 0.7486\n",
      "Epoch 36/100\n",
      "0s - loss: 0.9059 - acc: 0.7996 - val_loss: 1.1467 - val_acc: 0.7475\n",
      "Epoch 37/100\n",
      "0s - loss: 0.8975 - acc: 0.8014 - val_loss: 1.1417 - val_acc: 0.7464\n",
      "Epoch 38/100\n",
      "0s - loss: 0.8895 - acc: 0.8042 - val_loss: 1.1366 - val_acc: 0.7497\n",
      "Epoch 39/100\n",
      "0s - loss: 0.8816 - acc: 0.8050 - val_loss: 1.1315 - val_acc: 0.7486\n",
      "Epoch 40/100\n",
      "0s - loss: 0.8740 - acc: 0.8065 - val_loss: 1.1269 - val_acc: 0.7508\n",
      "Epoch 41/100\n",
      "0s - loss: 0.8665 - acc: 0.8074 - val_loss: 1.1225 - val_acc: 0.7508\n",
      "Epoch 42/100\n",
      "0s - loss: 0.8592 - acc: 0.8090 - val_loss: 1.1182 - val_acc: 0.7497\n",
      "Epoch 43/100\n",
      "0s - loss: 0.8520 - acc: 0.8106 - val_loss: 1.1142 - val_acc: 0.7497\n",
      "Epoch 44/100\n",
      "0s - loss: 0.8453 - acc: 0.8121 - val_loss: 1.1094 - val_acc: 0.7519\n",
      "Epoch 45/100\n",
      "0s - loss: 0.8385 - acc: 0.8133 - val_loss: 1.1052 - val_acc: 0.7553\n",
      "Epoch 46/100\n",
      "0s - loss: 0.8317 - acc: 0.8152 - val_loss: 1.1014 - val_acc: 0.7586\n",
      "Epoch 47/100\n",
      "0s - loss: 0.8254 - acc: 0.8165 - val_loss: 1.0974 - val_acc: 0.7564\n",
      "Epoch 48/100\n",
      "0s - loss: 0.8191 - acc: 0.8193 - val_loss: 1.0942 - val_acc: 0.7564\n",
      "Epoch 49/100\n",
      "0s - loss: 0.8129 - acc: 0.8189 - val_loss: 1.0904 - val_acc: 0.7575\n",
      "Epoch 50/100\n",
      "0s - loss: 0.8068 - acc: 0.8200 - val_loss: 1.0869 - val_acc: 0.7575\n",
      "Epoch 51/100\n",
      "0s - loss: 0.8009 - acc: 0.8207 - val_loss: 1.0834 - val_acc: 0.7597\n",
      "Epoch 52/100\n",
      "0s - loss: 0.7950 - acc: 0.8221 - val_loss: 1.0799 - val_acc: 0.7608\n",
      "Epoch 53/100\n",
      "0s - loss: 0.7894 - acc: 0.8237 - val_loss: 1.0762 - val_acc: 0.7608\n",
      "Epoch 54/100\n",
      "0s - loss: 0.7837 - acc: 0.8240 - val_loss: 1.0734 - val_acc: 0.7597\n",
      "Epoch 55/100\n",
      "0s - loss: 0.7782 - acc: 0.8269 - val_loss: 1.0705 - val_acc: 0.7631\n",
      "Epoch 56/100\n",
      "0s - loss: 0.7729 - acc: 0.8272 - val_loss: 1.0675 - val_acc: 0.7664\n",
      "Epoch 57/100\n",
      "0s - loss: 0.7675 - acc: 0.8284 - val_loss: 1.0642 - val_acc: 0.7653\n",
      "Epoch 58/100\n",
      "0s - loss: 0.7624 - acc: 0.8301 - val_loss: 1.0614 - val_acc: 0.7664\n",
      "Epoch 59/100\n",
      "0s - loss: 0.7573 - acc: 0.8320 - val_loss: 1.0581 - val_acc: 0.7697\n",
      "Epoch 60/100\n",
      "0s - loss: 0.7522 - acc: 0.8330 - val_loss: 1.0558 - val_acc: 0.7697\n",
      "Epoch 61/100\n",
      "0s - loss: 0.7474 - acc: 0.8324 - val_loss: 1.0529 - val_acc: 0.7686\n",
      "Epoch 62/100\n",
      "0s - loss: 0.7426 - acc: 0.8342 - val_loss: 1.0501 - val_acc: 0.7686\n",
      "Epoch 63/100\n",
      "0s - loss: 0.7377 - acc: 0.8351 - val_loss: 1.0475 - val_acc: 0.7675\n",
      "Epoch 64/100\n",
      "0s - loss: 0.7330 - acc: 0.8369 - val_loss: 1.0449 - val_acc: 0.7664\n",
      "Epoch 65/100\n",
      "0s - loss: 0.7285 - acc: 0.8379 - val_loss: 1.0430 - val_acc: 0.7675\n",
      "Epoch 66/100\n",
      "0s - loss: 0.7239 - acc: 0.8390 - val_loss: 1.0402 - val_acc: 0.7664\n",
      "Epoch 67/100\n",
      "0s - loss: 0.7195 - acc: 0.8394 - val_loss: 1.0383 - val_acc: 0.7675\n",
      "Epoch 68/100\n",
      "0s - loss: 0.7151 - acc: 0.8410 - val_loss: 1.0355 - val_acc: 0.7664\n",
      "Epoch 69/100\n",
      "0s - loss: 0.7108 - acc: 0.8411 - val_loss: 1.0332 - val_acc: 0.7675\n",
      "Epoch 70/100\n",
      "0s - loss: 0.7066 - acc: 0.8430 - val_loss: 1.0311 - val_acc: 0.7686\n",
      "Epoch 71/100\n",
      "0s - loss: 0.7024 - acc: 0.8439 - val_loss: 1.0284 - val_acc: 0.7697\n",
      "Epoch 72/100\n",
      "0s - loss: 0.6983 - acc: 0.8458 - val_loss: 1.0266 - val_acc: 0.7686\n",
      "Epoch 73/100\n",
      "0s - loss: 0.6942 - acc: 0.8456 - val_loss: 1.0249 - val_acc: 0.7697\n",
      "Epoch 74/100\n",
      "0s - loss: 0.6902 - acc: 0.8466 - val_loss: 1.0225 - val_acc: 0.7697\n",
      "Epoch 75/100\n",
      "0s - loss: 0.6863 - acc: 0.8477 - val_loss: 1.0204 - val_acc: 0.7709\n",
      "Epoch 76/100\n",
      "0s - loss: 0.6824 - acc: 0.8482 - val_loss: 1.0178 - val_acc: 0.7709\n",
      "Epoch 77/100\n",
      "0s - loss: 0.6785 - acc: 0.8499 - val_loss: 1.0165 - val_acc: 0.7742\n",
      "Epoch 78/100\n",
      "0s - loss: 0.6748 - acc: 0.8501 - val_loss: 1.0146 - val_acc: 0.7753\n",
      "Epoch 79/100\n",
      "0s - loss: 0.6711 - acc: 0.8519 - val_loss: 1.0126 - val_acc: 0.7742\n",
      "Epoch 80/100\n",
      "0s - loss: 0.6674 - acc: 0.8531 - val_loss: 1.0107 - val_acc: 0.7753\n",
      "Epoch 81/100\n",
      "0s - loss: 0.6638 - acc: 0.8534 - val_loss: 1.0094 - val_acc: 0.7753\n",
      "Epoch 82/100\n",
      "0s - loss: 0.6603 - acc: 0.8549 - val_loss: 1.0072 - val_acc: 0.7753\n",
      "Epoch 83/100\n",
      "0s - loss: 0.6568 - acc: 0.8570 - val_loss: 1.0059 - val_acc: 0.7775\n",
      "Epoch 84/100\n",
      "0s - loss: 0.6533 - acc: 0.8578 - val_loss: 1.0046 - val_acc: 0.7764\n",
      "Epoch 85/100\n",
      "0s - loss: 0.6499 - acc: 0.8582 - val_loss: 1.0020 - val_acc: 0.7764\n",
      "Epoch 86/100\n",
      "0s - loss: 0.6465 - acc: 0.8596 - val_loss: 1.0006 - val_acc: 0.7775\n",
      "Epoch 87/100\n",
      "0s - loss: 0.6431 - acc: 0.8611 - val_loss: 0.9989 - val_acc: 0.7786\n",
      "Epoch 88/100\n",
      "0s - loss: 0.6399 - acc: 0.8616 - val_loss: 0.9971 - val_acc: 0.7809\n",
      "Epoch 89/100\n",
      "0s - loss: 0.6366 - acc: 0.8630 - val_loss: 0.9953 - val_acc: 0.7809\n",
      "Epoch 90/100\n",
      "0s - loss: 0.6334 - acc: 0.8638 - val_loss: 0.9943 - val_acc: 0.7798\n",
      "Epoch 91/100\n",
      "0s - loss: 0.6303 - acc: 0.8633 - val_loss: 0.9926 - val_acc: 0.7820\n",
      "Epoch 92/100\n",
      "0s - loss: 0.6272 - acc: 0.8651 - val_loss: 0.9913 - val_acc: 0.7820\n",
      "Epoch 93/100\n",
      "0s - loss: 0.6241 - acc: 0.8663 - val_loss: 0.9899 - val_acc: 0.7809\n",
      "Epoch 94/100\n",
      "0s - loss: 0.6211 - acc: 0.8665 - val_loss: 0.9885 - val_acc: 0.7809\n",
      "Epoch 95/100\n",
      "0s - loss: 0.6181 - acc: 0.8671 - val_loss: 0.9875 - val_acc: 0.7809\n",
      "Epoch 96/100\n",
      "0s - loss: 0.6151 - acc: 0.8680 - val_loss: 0.9855 - val_acc: 0.7820\n",
      "Epoch 97/100\n",
      "0s - loss: 0.6122 - acc: 0.8686 - val_loss: 0.9837 - val_acc: 0.7809\n",
      "Epoch 98/100\n",
      "0s - loss: 0.6093 - acc: 0.8694 - val_loss: 0.9825 - val_acc: 0.7820\n",
      "Epoch 99/100\n",
      "0s - loss: 0.6064 - acc: 0.8701 - val_loss: 0.9816 - val_acc: 0.7809\n",
      "Epoch 100/100\n",
      "0s - loss: 0.6036 - acc: 0.8707 - val_loss: 0.9802 - val_acc: 0.7820\n",
      "Test score:  0.94469017422\n",
      "Test accuracy:  0.781834372244\n"
     ]
    }
   ],
   "source": [
    "model.compile(loss='categorical_crossentropy', \n",
    "              optimizer='sgd', \n",
    "              metrics=['accuracy'])\n",
    "\n",
    "history = model.fit(X_train, Y_train, \n",
    "          epochs=nb_epoch, \n",
    "          batch_size=batch_size, \n",
    "          validation_split=0.1, \n",
    "          verbose=2)\n",
    "\n",
    "score = model.evaluate(X_test, Y_test, batch_size=batch_size, verbose=2)\n",
    "print(\"Test score: \", score[0])\n",
    "print(\"Test accuracy: \", score[1])"
   ]
  },
  {
   "cell_type": "markdown",
   "metadata": {},
   "source": [
    "## Plotting Train and Test accuracy"
   ]
  },
  {
   "cell_type": "code",
   "execution_count": 41,
   "metadata": {
    "collapsed": false
   },
   "outputs": [
    {
     "data": {
      "text/plain": [
       "<matplotlib.legend.Legend at 0x7f8f51fa4a90>"
      ]
     },
     "execution_count": 41,
     "metadata": {},
     "output_type": "execute_result"
    },
    {
     "data": {
      "image/png": "[encoded data removed]",
      "text/plain": [
       "<matplotlib.figure.Figure at 0x7f8f48ad15d0>"
      ]
     },
     "metadata": {},
     "output_type": "display_data"
    }
   ],
   "source": [
    "plt.plot(history.history['acc'])\n",
    "plt.plot(history.history['val_acc'])\n",
    "plt.title('model accuracy')\n",
    "plt.ylabel('accuracy')\n",
    "plt.xlabel('epoch')\n",
    "plt.legend(['train', 'test'], loc='upper left')"
   ]
  },
  {
   "cell_type": "markdown",
   "metadata": {},
   "source": [
    "## Plotting Train and Test loss"
   ]
  },
  {
   "cell_type": "code",
   "execution_count": 42,
   "metadata": {
    "collapsed": false
   },
   "outputs": [
    {
     "data": {
      "text/plain": [
       "<matplotlib.legend.Legend at 0x7f8f51e79e50>"
      ]
     },
     "execution_count": 42,
     "metadata": {},
     "output_type": "execute_result"
    },
    {
     "data": {
      "image/png": "[encoded data removed]",
      "text/plain": [
       "<matplotlib.figure.Figure at 0x7f8f51f4b6d0>"
      ]
     },
     "metadata": {},
     "output_type": "display_data"
    }
   ],
   "source": [
    "plt.plot(history.history['loss'])\n",
    "plt.plot(history.history['val_loss'])\n",
    "plt.title('model loss')\n",
    "plt.ylabel('loss')\n",
    "plt.xlabel('epoch')\n",
    "plt.legend(['train', 'test'], loc='upper left')"
   ]
  },
  {
   "cell_type": "markdown",
   "metadata": {},
   "source": [
    "## Fully connected + Dropout + Relu + Relu + Dropout + Fully connected + Softmax (MLP)"
   ]
  },
  {
   "cell_type": "code",
   "execution_count": 43,
   "metadata": {
    "collapsed": false
   },
   "outputs": [
    {
     "data": {
      "text/plain": [
       "\"\\n\\nmodel = Sequential()\\nmodel.add(Dense(input_shape=(max_words,), units=512))\\nmodel.add(Activation('relu'))\\nmodel.add(Dense(num_classes))\\nmodel.add(Activation('softmax'))\\n# Max_accuracy = 86.51, Val_accuracy =  78.31\\n# Test_score = 0.9231, Test_accuracy = 77.82\\n\""
      ]
     },
     "execution_count": 43,
     "metadata": {},
     "output_type": "execute_result"
    }
   ],
   "source": [
    "model = Sequential()\n",
    "\n",
    "model.add(Dense(input_shape=(max_words,), units=500))\n",
    "model.add(Dropout(0.5))\n",
    "model.add(Activation('relu'))\n",
    "\n",
    "model.add(Activation('relu'))\n",
    "model.add(Dropout(0.5))\n",
    "model.add(Dense(num_classes))\n",
    "\n",
    "model.add(Activation('softmax'))\n",
    "# Without Dropout (epochs=100)\n",
    "# Max_accuracy = 90.63, Val_accuracy =  77.09\n",
    "# Test_score = 0.985, Test_accuracy = 76.68\n",
    "# With Dropout (epochs= 100)\n",
    "# Max_accuracy = 85.98, Val_accuracy =  76.08\n",
    "# Test_score = 1.036, Test_accuracy = 76.22\n",
    "# With Dropout (epochs= 500)\n",
    "# Max_accuracy = 94.84, Val_accuracy =  79.20\n",
    "# Test_score = 1.13, Test_accuracy = 79.07"
   ]
  },
  {
   "cell_type": "code",
   "execution_count": 44,
   "metadata": {
    "collapsed": false
   },
   "outputs": [
    {
     "name": "stdout",
     "output_type": "stream",
     "text": [
      "Train on 8083 samples, validate on 899 samples\n",
      "Epoch 1/100\n",
      "2s - loss: 2.5279 - acc: 0.4302 - val_loss: 1.9487 - val_acc: 0.5139\n",
      "Epoch 2/100\n",
      "2s - loss: 1.9254 - acc: 0.5239 - val_loss: 1.7415 - val_acc: 0.5784\n",
      "Epoch 3/100\n",
      "2s - loss: 1.7674 - acc: 0.5649 - val_loss: 1.6371 - val_acc: 0.6307\n",
      "Epoch 4/100\n",
      "2s - loss: 1.6650 - acc: 0.5969 - val_loss: 1.5644 - val_acc: 0.6618\n",
      "Epoch 5/100\n",
      "2s - loss: 1.5774 - acc: 0.6250 - val_loss: 1.5062 - val_acc: 0.6885\n",
      "Epoch 6/100\n",
      "2s - loss: 1.5110 - acc: 0.6442 - val_loss: 1.4610 - val_acc: 0.6952\n",
      "Epoch 7/100\n",
      "2s - loss: 1.4686 - acc: 0.6569 - val_loss: 1.4197 - val_acc: 0.6997\n",
      "Epoch 8/100\n",
      "2s - loss: 1.4147 - acc: 0.6726 - val_loss: 1.3835 - val_acc: 0.7063\n",
      "Epoch 9/100\n",
      "2s - loss: 1.3724 - acc: 0.6817 - val_loss: 1.3551 - val_acc: 0.7063\n",
      "Epoch 10/100\n",
      "2s - loss: 1.3384 - acc: 0.6881 - val_loss: 1.3291 - val_acc: 0.7097\n",
      "Epoch 11/100\n",
      "2s - loss: 1.3013 - acc: 0.6966 - val_loss: 1.3073 - val_acc: 0.7130\n",
      "Epoch 12/100\n",
      "2s - loss: 1.2678 - acc: 0.7073 - val_loss: 1.2846 - val_acc: 0.7219\n",
      "Epoch 13/100\n",
      "2s - loss: 1.2509 - acc: 0.7079 - val_loss: 1.2670 - val_acc: 0.7208\n",
      "Epoch 14/100\n",
      "2s - loss: 1.2179 - acc: 0.7142 - val_loss: 1.2511 - val_acc: 0.7253\n",
      "Epoch 15/100\n",
      "2s - loss: 1.1871 - acc: 0.7247 - val_loss: 1.2332 - val_acc: 0.7308\n",
      "Epoch 16/100\n",
      "2s - loss: 1.1623 - acc: 0.7289 - val_loss: 1.2222 - val_acc: 0.7264\n",
      "Epoch 17/100\n",
      "2s - loss: 1.1482 - acc: 0.7326 - val_loss: 1.2051 - val_acc: 0.7375\n",
      "Epoch 18/100\n",
      "2s - loss: 1.1289 - acc: 0.7382 - val_loss: 1.1941 - val_acc: 0.7353\n",
      "Epoch 19/100\n",
      "5s - loss: 1.1039 - acc: 0.7434 - val_loss: 1.1789 - val_acc: 0.7375\n",
      "Epoch 20/100\n",
      "7s - loss: 1.0884 - acc: 0.7466 - val_loss: 1.1680 - val_acc: 0.7430\n",
      "Epoch 21/100\n",
      "4s - loss: 1.0702 - acc: 0.7537 - val_loss: 1.1591 - val_acc: 0.7430\n",
      "Epoch 22/100\n",
      "4s - loss: 1.0423 - acc: 0.7597 - val_loss: 1.1504 - val_acc: 0.7519\n",
      "Epoch 23/100\n",
      "4s - loss: 1.0349 - acc: 0.7559 - val_loss: 1.1386 - val_acc: 0.7497\n",
      "Epoch 24/100\n",
      "2s - loss: 1.0232 - acc: 0.7632 - val_loss: 1.1290 - val_acc: 0.7486\n",
      "Epoch 25/100\n",
      "2s - loss: 0.9932 - acc: 0.7696 - val_loss: 1.1229 - val_acc: 0.7531\n",
      "Epoch 26/100\n",
      "2s - loss: 0.9884 - acc: 0.7741 - val_loss: 1.1109 - val_acc: 0.7553\n",
      "Epoch 27/100\n",
      "2s - loss: 0.9739 - acc: 0.7691 - val_loss: 1.1013 - val_acc: 0.7575\n",
      "Epoch 28/100\n",
      "2s - loss: 0.9582 - acc: 0.7752 - val_loss: 1.0932 - val_acc: 0.7575\n",
      "Epoch 29/100\n",
      "2s - loss: 0.9427 - acc: 0.7758 - val_loss: 1.0874 - val_acc: 0.7575\n",
      "Epoch 30/100\n",
      "2s - loss: 0.9404 - acc: 0.7797 - val_loss: 1.0805 - val_acc: 0.7631\n",
      "Epoch 31/100\n",
      "2s - loss: 0.9269 - acc: 0.7814 - val_loss: 1.0754 - val_acc: 0.7620\n",
      "Epoch 32/100\n",
      "2s - loss: 0.9151 - acc: 0.7842 - val_loss: 1.0684 - val_acc: 0.7631\n",
      "Epoch 33/100\n",
      "2s - loss: 0.8967 - acc: 0.7877 - val_loss: 1.0618 - val_acc: 0.7620\n",
      "Epoch 34/100\n",
      "2s - loss: 0.8998 - acc: 0.7888 - val_loss: 1.0548 - val_acc: 0.7642\n",
      "Epoch 35/100\n",
      "2s - loss: 0.8698 - acc: 0.7927 - val_loss: 1.0526 - val_acc: 0.7653\n",
      "Epoch 36/100\n",
      "2s - loss: 0.8613 - acc: 0.7992 - val_loss: 1.0441 - val_acc: 0.7664\n",
      "Epoch 37/100\n",
      "2s - loss: 0.8433 - acc: 0.7962 - val_loss: 1.0386 - val_acc: 0.7686\n",
      "Epoch 38/100\n",
      "2s - loss: 0.8371 - acc: 0.8018 - val_loss: 1.0319 - val_acc: 0.7686\n",
      "Epoch 39/100\n",
      "2s - loss: 0.8371 - acc: 0.8014 - val_loss: 1.0286 - val_acc: 0.7697\n",
      "Epoch 40/100\n",
      "2s - loss: 0.8272 - acc: 0.8023 - val_loss: 1.0241 - val_acc: 0.7720\n",
      "Epoch 41/100\n",
      "2s - loss: 0.8133 - acc: 0.8056 - val_loss: 1.0193 - val_acc: 0.7709\n",
      "Epoch 42/100\n",
      "2s - loss: 0.8087 - acc: 0.8070 - val_loss: 1.0149 - val_acc: 0.7731\n",
      "Epoch 43/100\n",
      "2s - loss: 0.7897 - acc: 0.8116 - val_loss: 1.0115 - val_acc: 0.7775\n",
      "Epoch 44/100\n",
      "2s - loss: 0.7812 - acc: 0.8149 - val_loss: 1.0059 - val_acc: 0.7753\n",
      "Epoch 45/100\n",
      "2s - loss: 0.7782 - acc: 0.8139 - val_loss: 1.0021 - val_acc: 0.7786\n",
      "Epoch 46/100\n",
      "2s - loss: 0.7681 - acc: 0.8173 - val_loss: 0.9966 - val_acc: 0.7786\n",
      "Epoch 47/100\n",
      "2s - loss: 0.7657 - acc: 0.8150 - val_loss: 0.9945 - val_acc: 0.7798\n",
      "Epoch 48/100\n",
      "2s - loss: 0.7523 - acc: 0.8184 - val_loss: 0.9914 - val_acc: 0.7809\n",
      "Epoch 49/100\n",
      "3s - loss: 0.7372 - acc: 0.8185 - val_loss: 0.9862 - val_acc: 0.7798\n",
      "Epoch 50/100\n",
      "4s - loss: 0.7367 - acc: 0.8184 - val_loss: 0.9829 - val_acc: 0.7798\n",
      "Epoch 51/100\n",
      "5s - loss: 0.7207 - acc: 0.8231 - val_loss: 0.9812 - val_acc: 0.7798\n",
      "Epoch 52/100\n",
      "3s - loss: 0.7189 - acc: 0.8274 - val_loss: 0.9794 - val_acc: 0.7809\n",
      "Epoch 53/100\n",
      "2s - loss: 0.7150 - acc: 0.8252 - val_loss: 0.9736 - val_acc: 0.7831\n",
      "Epoch 54/100\n",
      "3s - loss: 0.7045 - acc: 0.8319 - val_loss: 0.9705 - val_acc: 0.7831\n",
      "Epoch 55/100\n",
      "2s - loss: 0.6998 - acc: 0.8308 - val_loss: 0.9683 - val_acc: 0.7809\n",
      "Epoch 56/100\n",
      "2s - loss: 0.6992 - acc: 0.8334 - val_loss: 0.9642 - val_acc: 0.7842\n",
      "Epoch 57/100\n",
      "2s - loss: 0.6789 - acc: 0.8355 - val_loss: 0.9620 - val_acc: 0.7831\n",
      "Epoch 58/100\n",
      "2s - loss: 0.6771 - acc: 0.8341 - val_loss: 0.9582 - val_acc: 0.7842\n",
      "Epoch 59/100\n",
      "2s - loss: 0.6734 - acc: 0.8403 - val_loss: 0.9576 - val_acc: 0.7831\n",
      "Epoch 60/100\n",
      "2s - loss: 0.6668 - acc: 0.8373 - val_loss: 0.9529 - val_acc: 0.7875\n",
      "Epoch 61/100\n",
      "2s - loss: 0.6432 - acc: 0.8420 - val_loss: 0.9534 - val_acc: 0.7864\n",
      "Epoch 62/100\n",
      "2s - loss: 0.6493 - acc: 0.8393 - val_loss: 0.9490 - val_acc: 0.7853\n",
      "Epoch 63/100\n",
      "2s - loss: 0.6470 - acc: 0.8449 - val_loss: 0.9487 - val_acc: 0.7842\n",
      "Epoch 64/100\n",
      "2s - loss: 0.6433 - acc: 0.8430 - val_loss: 0.9430 - val_acc: 0.7864\n",
      "Epoch 65/100\n",
      "2s - loss: 0.6324 - acc: 0.8463 - val_loss: 0.9439 - val_acc: 0.7864\n",
      "Epoch 66/100\n",
      "2s - loss: 0.6273 - acc: 0.8463 - val_loss: 0.9395 - val_acc: 0.7864\n",
      "Epoch 67/100\n",
      "2s - loss: 0.6196 - acc: 0.8478 - val_loss: 0.9378 - val_acc: 0.7864\n",
      "Epoch 68/100\n",
      "2s - loss: 0.6216 - acc: 0.8456 - val_loss: 0.9364 - val_acc: 0.7875\n",
      "Epoch 69/100\n",
      "2s - loss: 0.6199 - acc: 0.8460 - val_loss: 0.9319 - val_acc: 0.7887\n",
      "Epoch 70/100\n",
      "2s - loss: 0.6046 - acc: 0.8531 - val_loss: 0.9323 - val_acc: 0.7909\n",
      "Epoch 71/100\n",
      "2s - loss: 0.5980 - acc: 0.8525 - val_loss: 0.9355 - val_acc: 0.7898\n",
      "Epoch 72/100\n",
      "2s - loss: 0.5946 - acc: 0.8531 - val_loss: 0.9306 - val_acc: 0.7931\n",
      "Epoch 73/100\n",
      "2s - loss: 0.5941 - acc: 0.8557 - val_loss: 0.9262 - val_acc: 0.7909\n",
      "Epoch 74/100\n",
      "2s - loss: 0.5797 - acc: 0.8578 - val_loss: 0.9236 - val_acc: 0.7953\n",
      "Epoch 75/100\n",
      "2s - loss: 0.5733 - acc: 0.8613 - val_loss: 0.9237 - val_acc: 0.7920\n",
      "Epoch 76/100\n",
      "2s - loss: 0.5639 - acc: 0.8651 - val_loss: 0.9215 - val_acc: 0.7964\n",
      "Epoch 77/100\n",
      "2s - loss: 0.5653 - acc: 0.8614 - val_loss: 0.9212 - val_acc: 0.7953\n",
      "Epoch 78/100\n",
      "2s - loss: 0.5551 - acc: 0.8632 - val_loss: 0.9201 - val_acc: 0.7964\n",
      "Epoch 79/100\n",
      "2s - loss: 0.5531 - acc: 0.8601 - val_loss: 0.9187 - val_acc: 0.7931\n",
      "Epoch 80/100\n",
      "2s - loss: 0.5467 - acc: 0.8689 - val_loss: 0.9204 - val_acc: 0.7920\n",
      "Epoch 81/100\n",
      "2s - loss: 0.5431 - acc: 0.8668 - val_loss: 0.9160 - val_acc: 0.7942\n",
      "Epoch 82/100\n",
      "2s - loss: 0.5433 - acc: 0.8675 - val_loss: 0.9140 - val_acc: 0.7920\n",
      "Epoch 83/100\n",
      "2s - loss: 0.5265 - acc: 0.8713 - val_loss: 0.9180 - val_acc: 0.7953\n",
      "Epoch 84/100\n",
      "2s - loss: 0.5284 - acc: 0.8669 - val_loss: 0.9156 - val_acc: 0.7931\n",
      "Epoch 85/100\n",
      "2s - loss: 0.5236 - acc: 0.8739 - val_loss: 0.9113 - val_acc: 0.7909\n",
      "Epoch 86/100\n",
      "2s - loss: 0.5229 - acc: 0.8700 - val_loss: 0.9126 - val_acc: 0.7953\n",
      "Epoch 87/100\n",
      "2s - loss: 0.5153 - acc: 0.8727 - val_loss: 0.9117 - val_acc: 0.7976\n",
      "Epoch 88/100\n",
      "2s - loss: 0.5107 - acc: 0.8765 - val_loss: 0.9133 - val_acc: 0.7931\n",
      "Epoch 89/100\n",
      "2s - loss: 0.5093 - acc: 0.8765 - val_loss: 0.9081 - val_acc: 0.7976\n",
      "Epoch 90/100\n",
      "2s - loss: 0.5105 - acc: 0.8774 - val_loss: 0.9073 - val_acc: 0.7987\n",
      "Epoch 91/100\n",
      "2s - loss: 0.4973 - acc: 0.8776 - val_loss: 0.9115 - val_acc: 0.7976\n",
      "Epoch 92/100\n",
      "2s - loss: 0.5037 - acc: 0.8695 - val_loss: 0.9070 - val_acc: 0.8020\n",
      "Epoch 93/100\n",
      "2s - loss: 0.4935 - acc: 0.8754 - val_loss: 0.9033 - val_acc: 0.7976\n",
      "Epoch 94/100\n",
      "2s - loss: 0.4866 - acc: 0.8815 - val_loss: 0.9045 - val_acc: 0.7953\n",
      "Epoch 95/100\n",
      "2s - loss: 0.4819 - acc: 0.8817 - val_loss: 0.9041 - val_acc: 0.7976\n",
      "Epoch 96/100\n",
      "2s - loss: 0.4787 - acc: 0.8816 - val_loss: 0.9053 - val_acc: 0.7976\n",
      "Epoch 97/100\n",
      "2s - loss: 0.4830 - acc: 0.8817 - val_loss: 0.9032 - val_acc: 0.7953\n",
      "Epoch 98/100\n",
      "2s - loss: 0.4687 - acc: 0.8856 - val_loss: 0.9033 - val_acc: 0.7942\n",
      "Epoch 99/100\n",
      "2s - loss: 0.4660 - acc: 0.8837 - val_loss: 0.9020 - val_acc: 0.7964\n",
      "Epoch 100/100\n",
      "2s - loss: 0.4649 - acc: 0.8885 - val_loss: 0.9040 - val_acc: 0.7987\n",
      "Test score:  0.874864892671\n",
      "Test accuracy:  0.794300979519\n"
     ]
    }
   ],
   "source": [
    "model.compile(loss='categorical_crossentropy', \n",
    "              optimizer='sgd', \n",
    "              metrics=['accuracy'])\n",
    "\n",
    "history = model.fit(X_train, Y_train, \n",
    "          epochs=nb_epoch, \n",
    "          batch_size=batch_size, \n",
    "          validation_split=0.1, \n",
    "          verbose=2)\n",
    "\n",
    "score = model.evaluate(X_test, Y_test, batch_size=batch_size, verbose=2)\n",
    "print(\"Test score: \", score[0])\n",
    "print(\"Test accuracy: \", score[1])"
   ]
  },
  {
   "cell_type": "code",
   "execution_count": 27,
   "metadata": {
    "collapsed": false
   },
   "outputs": [
    {
     "name": "stdout",
     "output_type": "stream",
     "text": [
      "['acc', 'loss', 'val_acc', 'val_loss']\n"
     ]
    }
   ],
   "source": [
    "print(history.history.keys())"
   ]
  },
  {
   "cell_type": "markdown",
   "metadata": {},
   "source": [
    "## Plotting Train and Test accuarcy"
   ]
  },
  {
   "cell_type": "code",
   "execution_count": 45,
   "metadata": {
    "collapsed": false,
    "scrolled": true
   },
   "outputs": [
    {
     "data": {
      "text/plain": [
       "<matplotlib.legend.Legend at 0x7f8f518e9610>"
      ]
     },
     "execution_count": 45,
     "metadata": {},
     "output_type": "execute_result"
    },
    {
     "data": {
      "image/png": "[encoded data removed]",
      "text/plain": [
       "<matplotlib.figure.Figure at 0x7f8f51e37a10>"
      ]
     },
     "metadata": {},
     "output_type": "display_data"
    }
   ],
   "source": [
    "plt.plot(history.history['acc'])\n",
    "plt.plot(history.history['val_acc'])\n",
    "plt.title('model accuracy')\n",
    "plt.ylabel('accuracy')\n",
    "plt.xlabel('epoch')\n",
    "plt.legend(['train', 'test'], loc='upper left')"
   ]
  },
  {
   "cell_type": "markdown",
   "metadata": {},
   "source": [
    "## Plotting Train and Test loss"
   ]
  },
  {
   "cell_type": "code",
   "execution_count": 46,
   "metadata": {
    "collapsed": false
   },
   "outputs": [
    {
     "data": {
      "text/plain": [
       "<matplotlib.legend.Legend at 0x7f8f51833c50>"
      ]
     },
     "execution_count": 46,
     "metadata": {},
     "output_type": "execute_result"
    },
    {
     "data": {
      "image/png": "[encoded data removed]",
      "text/plain": [
       "<matplotlib.figure.Figure at 0x7f8f518af2d0>"
      ]
     },
     "metadata": {},
     "output_type": "display_data"
    }
   ],
   "source": [
    "plt.plot(history.history['loss'])\n",
    "plt.plot(history.history['val_loss'])\n",
    "plt.title('model loss')\n",
    "plt.ylabel('loss')\n",
    "plt.xlabel('epoch')\n",
    "plt.legend(['train', 'test'], loc='upper left')"
   ]
  },
  {
   "cell_type": "markdown",
   "metadata": {},
   "source": [
    "## Fully connected + RELU + Fully connected + Softmax (MLP)"
   ]
  },
  {
   "cell_type": "code",
   "execution_count": 47,
   "metadata": {
    "collapsed": true
   },
   "outputs": [],
   "source": [
    "model = Sequential()\n",
    "model.add(Dense(input_shape=(max_words,), units=512))\n",
    "model.add(Activation('relu'))\n",
    "model.add(Dense(num_classes))\n",
    "model.add(Activation('softmax'))\n",
    "# Max_accuracy = 86.51, Val_accuracy =  78.31\n",
    "# Test_score = 0.9231, Test_accuracy = 77.82"
   ]
  },
  {
   "cell_type": "code",
   "execution_count": 48,
   "metadata": {
    "collapsed": false
   },
   "outputs": [
    {
     "name": "stdout",
     "output_type": "stream",
     "text": [
      "Train on 8083 samples, validate on 899 samples\n",
      "Epoch 1/100\n",
      "2s - loss: 2.3757 - acc: 0.4643 - val_loss: 1.9453 - val_acc: 0.5139\n",
      "Epoch 2/100\n",
      "2s - loss: 1.7606 - acc: 0.5666 - val_loss: 1.7325 - val_acc: 0.5918\n",
      "Epoch 3/100\n",
      "2s - loss: 1.5894 - acc: 0.6251 - val_loss: 1.6186 - val_acc: 0.6318\n",
      "Epoch 4/100\n",
      "2s - loss: 1.4730 - acc: 0.6651 - val_loss: 1.5299 - val_acc: 0.6719\n",
      "Epoch 5/100\n",
      "2s - loss: 1.3803 - acc: 0.6880 - val_loss: 1.4623 - val_acc: 0.6874\n",
      "Epoch 6/100\n",
      "2s - loss: 1.3052 - acc: 0.7056 - val_loss: 1.4076 - val_acc: 0.6941\n",
      "Epoch 7/100\n",
      "2s - loss: 1.2416 - acc: 0.7229 - val_loss: 1.3631 - val_acc: 0.7019\n",
      "Epoch 8/100\n",
      "2s - loss: 1.1872 - acc: 0.7345 - val_loss: 1.3342 - val_acc: 0.7041\n",
      "Epoch 9/100\n",
      "2s - loss: 1.1398 - acc: 0.7429 - val_loss: 1.2992 - val_acc: 0.7075\n",
      "Epoch 10/100\n",
      "2s - loss: 1.0981 - acc: 0.7541 - val_loss: 1.2678 - val_acc: 0.7186\n",
      "Epoch 11/100\n",
      "2s - loss: 1.0596 - acc: 0.7627 - val_loss: 1.2492 - val_acc: 0.7186\n",
      "Epoch 12/100\n",
      "1s - loss: 1.0247 - acc: 0.7710 - val_loss: 1.2266 - val_acc: 0.7275\n",
      "Epoch 13/100\n",
      "1s - loss: 0.9930 - acc: 0.7771 - val_loss: 1.2043 - val_acc: 0.7375\n",
      "Epoch 14/100\n",
      "1s - loss: 0.9633 - acc: 0.7834 - val_loss: 1.1896 - val_acc: 0.7375\n",
      "Epoch 15/100\n",
      "1s - loss: 0.9358 - acc: 0.7898 - val_loss: 1.1719 - val_acc: 0.7419\n",
      "Epoch 16/100\n",
      "1s - loss: 0.9098 - acc: 0.7945 - val_loss: 1.1594 - val_acc: 0.7453\n",
      "Epoch 17/100\n",
      "1s - loss: 0.8850 - acc: 0.7986 - val_loss: 1.1430 - val_acc: 0.7486\n",
      "Epoch 18/100\n",
      "1s - loss: 0.8622 - acc: 0.8042 - val_loss: 1.1300 - val_acc: 0.7486\n",
      "Epoch 19/100\n",
      "1s - loss: 0.8402 - acc: 0.8091 - val_loss: 1.1195 - val_acc: 0.7464\n",
      "Epoch 20/100\n",
      "2s - loss: 0.8190 - acc: 0.8122 - val_loss: 1.1115 - val_acc: 0.7508\n",
      "Epoch 21/100\n",
      "2s - loss: 0.7995 - acc: 0.8159 - val_loss: 1.0973 - val_acc: 0.7531\n",
      "Epoch 22/100\n",
      "2s - loss: 0.7799 - acc: 0.8184 - val_loss: 1.0918 - val_acc: 0.7531\n",
      "Epoch 23/100\n",
      "1s - loss: 0.7625 - acc: 0.8231 - val_loss: 1.0825 - val_acc: 0.7620\n",
      "Epoch 24/100\n",
      "2s - loss: 0.7443 - acc: 0.8293 - val_loss: 1.0732 - val_acc: 0.7653\n",
      "Epoch 25/100\n",
      "2s - loss: 0.7284 - acc: 0.8324 - val_loss: 1.0656 - val_acc: 0.7631\n",
      "Epoch 26/100\n",
      "2s - loss: 0.7113 - acc: 0.8350 - val_loss: 1.0580 - val_acc: 0.7675\n",
      "Epoch 27/100\n",
      "1s - loss: 0.6961 - acc: 0.8410 - val_loss: 1.0511 - val_acc: 0.7709\n",
      "Epoch 28/100\n",
      "2s - loss: 0.6808 - acc: 0.8424 - val_loss: 1.0443 - val_acc: 0.7675\n",
      "Epoch 29/100\n",
      "2s - loss: 0.6667 - acc: 0.8458 - val_loss: 1.0400 - val_acc: 0.7686\n",
      "Epoch 30/100\n",
      "2s - loss: 0.6525 - acc: 0.8501 - val_loss: 1.0362 - val_acc: 0.7686\n",
      "Epoch 31/100\n",
      "1s - loss: 0.6388 - acc: 0.8538 - val_loss: 1.0266 - val_acc: 0.7731\n",
      "Epoch 32/100\n",
      "2s - loss: 0.6254 - acc: 0.8567 - val_loss: 1.0244 - val_acc: 0.7720\n",
      "Epoch 33/100\n",
      "2s - loss: 0.6135 - acc: 0.8604 - val_loss: 1.0149 - val_acc: 0.7675\n",
      "Epoch 34/100\n",
      "2s - loss: 0.6011 - acc: 0.8634 - val_loss: 1.0135 - val_acc: 0.7720\n",
      "Epoch 35/100\n",
      "2s - loss: 0.5893 - acc: 0.8679 - val_loss: 1.0076 - val_acc: 0.7742\n",
      "Epoch 36/100\n",
      "2s - loss: 0.5775 - acc: 0.8696 - val_loss: 1.0021 - val_acc: 0.7809\n",
      "Epoch 37/100\n",
      "2s - loss: 0.5670 - acc: 0.8727 - val_loss: 0.9985 - val_acc: 0.7775\n",
      "Epoch 38/100\n",
      "2s - loss: 0.5554 - acc: 0.8768 - val_loss: 1.0000 - val_acc: 0.7731\n",
      "Epoch 39/100\n",
      "2s - loss: 0.5451 - acc: 0.8800 - val_loss: 0.9941 - val_acc: 0.7809\n",
      "Epoch 40/100\n",
      "2s - loss: 0.5355 - acc: 0.8810 - val_loss: 0.9920 - val_acc: 0.7775\n",
      "Epoch 41/100\n",
      "2s - loss: 0.5253 - acc: 0.8831 - val_loss: 0.9881 - val_acc: 0.7842\n",
      "Epoch 42/100\n",
      "2s - loss: 0.5156 - acc: 0.8859 - val_loss: 0.9850 - val_acc: 0.7786\n",
      "Epoch 43/100\n",
      "2s - loss: 0.5066 - acc: 0.8882 - val_loss: 0.9791 - val_acc: 0.7875\n",
      "Epoch 44/100\n",
      "2s - loss: 0.4972 - acc: 0.8905 - val_loss: 0.9798 - val_acc: 0.7809\n",
      "Epoch 45/100\n",
      "2s - loss: 0.4889 - acc: 0.8915 - val_loss: 0.9727 - val_acc: 0.7809\n",
      "Epoch 46/100\n",
      "2s - loss: 0.4800 - acc: 0.8945 - val_loss: 0.9764 - val_acc: 0.7775\n",
      "Epoch 47/100\n",
      "1s - loss: 0.4719 - acc: 0.8952 - val_loss: 0.9736 - val_acc: 0.7764\n",
      "Epoch 48/100\n",
      "1s - loss: 0.4632 - acc: 0.8969 - val_loss: 0.9666 - val_acc: 0.7853\n",
      "Epoch 49/100\n",
      "2s - loss: 0.4557 - acc: 0.8984 - val_loss: 0.9719 - val_acc: 0.7764\n",
      "Epoch 50/100\n",
      "2s - loss: 0.4477 - acc: 0.9013 - val_loss: 0.9680 - val_acc: 0.7842\n",
      "Epoch 51/100\n",
      "2s - loss: 0.4407 - acc: 0.9003 - val_loss: 0.9691 - val_acc: 0.7731\n",
      "Epoch 52/100\n",
      "2s - loss: 0.4333 - acc: 0.9034 - val_loss: 0.9648 - val_acc: 0.7798\n",
      "Epoch 53/100\n",
      "2s - loss: 0.4259 - acc: 0.9046 - val_loss: 0.9602 - val_acc: 0.7853\n",
      "Epoch 54/100\n",
      "2s - loss: 0.4186 - acc: 0.9062 - val_loss: 0.9583 - val_acc: 0.7753\n",
      "Epoch 55/100\n",
      "2s - loss: 0.4123 - acc: 0.9094 - val_loss: 0.9623 - val_acc: 0.7753\n",
      "Epoch 56/100\n",
      "2s - loss: 0.4056 - acc: 0.9098 - val_loss: 0.9636 - val_acc: 0.7809\n",
      "Epoch 57/100\n",
      "2s - loss: 0.3990 - acc: 0.9102 - val_loss: 0.9561 - val_acc: 0.7764\n",
      "Epoch 58/100\n",
      "1s - loss: 0.3929 - acc: 0.9125 - val_loss: 0.9585 - val_acc: 0.7809\n",
      "Epoch 59/100\n",
      "2s - loss: 0.3866 - acc: 0.9136 - val_loss: 0.9531 - val_acc: 0.7831\n",
      "Epoch 60/100\n",
      "2s - loss: 0.3808 - acc: 0.9153 - val_loss: 0.9531 - val_acc: 0.7842\n",
      "Epoch 61/100\n",
      "2s - loss: 0.3751 - acc: 0.9141 - val_loss: 0.9570 - val_acc: 0.7798\n",
      "Epoch 62/100\n",
      "2s - loss: 0.3694 - acc: 0.9176 - val_loss: 0.9562 - val_acc: 0.7842\n",
      "Epoch 63/100\n",
      "2s - loss: 0.3638 - acc: 0.9183 - val_loss: 0.9518 - val_acc: 0.7798\n",
      "Epoch 64/100\n",
      "2s - loss: 0.3586 - acc: 0.9201 - val_loss: 0.9564 - val_acc: 0.7798\n",
      "Epoch 65/100\n",
      "2s - loss: 0.3527 - acc: 0.9213 - val_loss: 0.9551 - val_acc: 0.7831\n",
      "Epoch 66/100\n",
      "2s - loss: 0.3477 - acc: 0.9224 - val_loss: 0.9583 - val_acc: 0.7798\n",
      "Epoch 67/100\n",
      "2s - loss: 0.3428 - acc: 0.9242 - val_loss: 0.9544 - val_acc: 0.7809\n",
      "Epoch 68/100\n",
      "2s - loss: 0.3379 - acc: 0.9239 - val_loss: 0.9550 - val_acc: 0.7831\n",
      "Epoch 69/100\n",
      "2s - loss: 0.3333 - acc: 0.9252 - val_loss: 0.9540 - val_acc: 0.7809\n",
      "Epoch 70/100\n",
      "2s - loss: 0.3282 - acc: 0.9263 - val_loss: 0.9601 - val_acc: 0.7875\n",
      "Epoch 71/100\n",
      "1s - loss: 0.3239 - acc: 0.9270 - val_loss: 0.9558 - val_acc: 0.7842\n",
      "Epoch 72/100\n",
      "2s - loss: 0.3191 - acc: 0.9275 - val_loss: 0.9558 - val_acc: 0.7864\n",
      "Epoch 73/100\n",
      "2s - loss: 0.3152 - acc: 0.9284 - val_loss: 0.9578 - val_acc: 0.7842\n",
      "Epoch 74/100\n",
      "2s - loss: 0.3102 - acc: 0.9327 - val_loss: 0.9617 - val_acc: 0.7831\n",
      "Epoch 75/100\n",
      "2s - loss: 0.3062 - acc: 0.9327 - val_loss: 0.9591 - val_acc: 0.7842\n",
      "Epoch 76/100\n",
      "2s - loss: 0.3022 - acc: 0.9349 - val_loss: 0.9543 - val_acc: 0.7887\n",
      "Epoch 77/100\n",
      "2s - loss: 0.2981 - acc: 0.9339 - val_loss: 0.9552 - val_acc: 0.7875\n",
      "Epoch 78/100\n",
      "2s - loss: 0.2942 - acc: 0.9336 - val_loss: 0.9627 - val_acc: 0.7831\n",
      "Epoch 79/100\n",
      "2s - loss: 0.2907 - acc: 0.9360 - val_loss: 0.9622 - val_acc: 0.7864\n",
      "Epoch 80/100\n",
      "2s - loss: 0.2861 - acc: 0.9370 - val_loss: 0.9572 - val_acc: 0.7875\n",
      "Epoch 81/100\n",
      "2s - loss: 0.2826 - acc: 0.9381 - val_loss: 0.9604 - val_acc: 0.7887\n",
      "Epoch 82/100\n",
      "2s - loss: 0.2793 - acc: 0.9379 - val_loss: 0.9608 - val_acc: 0.7831\n",
      "Epoch 83/100\n",
      "2s - loss: 0.2754 - acc: 0.9385 - val_loss: 0.9659 - val_acc: 0.7831\n",
      "Epoch 84/100\n",
      "2s - loss: 0.2719 - acc: 0.9398 - val_loss: 0.9617 - val_acc: 0.7820\n",
      "Epoch 85/100\n",
      "2s - loss: 0.2683 - acc: 0.9401 - val_loss: 0.9627 - val_acc: 0.7842\n",
      "Epoch 86/100\n",
      "2s - loss: 0.2649 - acc: 0.9399 - val_loss: 0.9655 - val_acc: 0.7831\n",
      "Epoch 87/100\n",
      "2s - loss: 0.2616 - acc: 0.9428 - val_loss: 0.9646 - val_acc: 0.7864\n",
      "Epoch 88/100\n",
      "2s - loss: 0.2584 - acc: 0.9425 - val_loss: 0.9692 - val_acc: 0.7809\n",
      "Epoch 89/100\n",
      "2s - loss: 0.2554 - acc: 0.9431 - val_loss: 0.9711 - val_acc: 0.7842\n",
      "Epoch 90/100\n",
      "2s - loss: 0.2521 - acc: 0.9431 - val_loss: 0.9664 - val_acc: 0.7909\n",
      "Epoch 91/100\n",
      "2s - loss: 0.2489 - acc: 0.9453 - val_loss: 0.9706 - val_acc: 0.7842\n",
      "Epoch 92/100\n",
      "2s - loss: 0.2461 - acc: 0.9453 - val_loss: 0.9725 - val_acc: 0.7820\n",
      "Epoch 93/100\n",
      "2s - loss: 0.2432 - acc: 0.9446 - val_loss: 0.9798 - val_acc: 0.7764\n",
      "Epoch 94/100\n",
      "2s - loss: 0.2402 - acc: 0.9461 - val_loss: 0.9767 - val_acc: 0.7809\n",
      "Epoch 95/100\n",
      "2s - loss: 0.2371 - acc: 0.9452 - val_loss: 0.9736 - val_acc: 0.7786\n",
      "Epoch 96/100\n",
      "2s - loss: 0.2346 - acc: 0.9466 - val_loss: 0.9756 - val_acc: 0.7920\n",
      "Epoch 97/100\n",
      "2s - loss: 0.2318 - acc: 0.9463 - val_loss: 0.9760 - val_acc: 0.7809\n",
      "Epoch 98/100\n",
      "2s - loss: 0.2289 - acc: 0.9472 - val_loss: 0.9771 - val_acc: 0.7820\n",
      "Epoch 99/100\n",
      "2s - loss: 0.2265 - acc: 0.9470 - val_loss: 0.9752 - val_acc: 0.7809\n",
      "Epoch 100/100\n",
      "2s - loss: 0.2240 - acc: 0.9484 - val_loss: 0.9791 - val_acc: 0.7831\n",
      "Test score:  0.970713929841\n",
      "Test accuracy:  0.774265360641\n"
     ]
    }
   ],
   "source": [
    "model.compile(loss='categorical_crossentropy', \n",
    "              optimizer='sgd', \n",
    "              metrics=['accuracy'])\n",
    "\n",
    "history = model.fit(X_train, Y_train, \n",
    "          epochs=nb_epoch, \n",
    "          batch_size=batch_size, \n",
    "          validation_split=0.1, \n",
    "          verbose=2)\n",
    "\n",
    "score = model.evaluate(X_test, Y_test, batch_size=batch_size, verbose=2)\n",
    "print(\"Test score: \", score[0])\n",
    "print(\"Test accuracy: \", score[1])"
   ]
  },
  {
   "cell_type": "markdown",
   "metadata": {},
   "source": [
    "## Plotting Train and Test accuracy"
   ]
  },
  {
   "cell_type": "code",
   "execution_count": 49,
   "metadata": {
    "collapsed": false
   },
   "outputs": [
    {
     "data": {
      "text/plain": [
       "<matplotlib.legend.Legend at 0x7f8f50c27d50>"
      ]
     },
     "execution_count": 49,
     "metadata": {},
     "output_type": "execute_result"
    },
    {
     "data": {
      "image/png": "[encoded data removed]",
      "text/plain": [
       "<matplotlib.figure.Figure at 0x7f8f518a6d90>"
      ]
     },
     "metadata": {},
     "output_type": "display_data"
    }
   ],
   "source": [
    "plt.plot(history.history['acc'])\n",
    "plt.plot(history.history['val_acc'])\n",
    "plt.title('model accuracy')\n",
    "plt.ylabel('accuracy')\n",
    "plt.xlabel('epoch')\n",
    "plt.legend(['train', 'test'], loc='upper left')"
   ]
  },
  {
   "cell_type": "markdown",
   "metadata": {},
   "source": [
    "## Plotting Train and Test loss"
   ]
  },
  {
   "cell_type": "code",
   "execution_count": 50,
   "metadata": {
    "collapsed": false
   },
   "outputs": [
    {
     "data": {
      "text/plain": [
       "<matplotlib.legend.Legend at 0x7f8f50bb3350>"
      ]
     },
     "execution_count": 50,
     "metadata": {},
     "output_type": "execute_result"
    },
    {
     "data": {
      "image/png": "[encoded data removed]",
      "text/plain": [
       "<matplotlib.figure.Figure at 0x7f8f50b750d0>"
      ]
     },
     "metadata": {},
     "output_type": "display_data"
    }
   ],
   "source": [
    "plt.plot(history.history['loss'])\n",
    "plt.plot(history.history['val_loss'])\n",
    "plt.title('model loss')\n",
    "plt.ylabel('loss')\n",
    "plt.xlabel('epoch')\n",
    "plt.legend(['train', 'test'], loc='upper left')"
   ]
  },
  {
   "cell_type": "markdown",
   "metadata": {},
   "source": [
    "## Conclusion\n",
    "\n",
    "MLP with Dropout is giving the best results at the moment (though it is overfitting)\n",
    "\n",
    "## TODO\n",
    "1. Batch normalization\n",
    "2. Learning rate decay\n",
    "3. Train on more number of epochs (1000 - 10000)"
   ]
  },
  {
   "cell_type": "code",
   "execution_count": null,
   "metadata": {
    "collapsed": true
   },
   "outputs": [],
   "source": []
  }
 ],
 "metadata": {
  "anaconda-cloud": {},
  "kernelspec": {
   "display_name": "Python [conda env:tensorflow]",
   "language": "python",
   "name": "conda-env-tensorflow-py"
  },
  "language_info": {
   "codemirror_mode": {
    "name": "ipython",
    "version": 2
   },
   "file_extension": ".py",
   "mimetype": "text/x-python",
   "name": "python",
   "nbconvert_exporter": "python",
   "pygments_lexer": "ipython2",
   "version": "2.7.13"
  }
 },
 "nbformat": 4,
 "nbformat_minor": 1
}
